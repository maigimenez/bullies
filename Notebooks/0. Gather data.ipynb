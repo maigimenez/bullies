{
 "cells": [
  {
   "cell_type": "code",
   "execution_count": 1,
   "metadata": {
    "collapsed": true
   },
   "outputs": [],
   "source": [
    "from configparser import ConfigParser\n",
    "from os.path import join\n",
    "from os import pardir"
   ]
  },
  {
   "cell_type": "markdown",
   "metadata": {},
   "source": [
    "### Configurar las credenciales para acceder al API de Twitter"
   ]
  },
  {
   "cell_type": "code",
   "execution_count": 2,
   "metadata": {
    "collapsed": false
   },
   "outputs": [
    {
     "data": {
      "text/plain": [
       "['../src/credentials.ini']"
      ]
     },
     "execution_count": 2,
     "metadata": {},
     "output_type": "execute_result"
    }
   ],
   "source": [
    "config = ConfigParser()\n",
    "config.read(join(pardir,'src','credentials.ini'))"
   ]
  },
  {
   "cell_type": "code",
   "execution_count": 3,
   "metadata": {
    "collapsed": false
   },
   "outputs": [],
   "source": [
    "APP_KEY = config['twitter']['app_key']\n",
    "APP_SECRET = config['twitter']['app_secret']\n",
    "OAUTH_TOKEN =  config['twitter']['oauth_token']\n",
    "OAUTH_TOKEN_SECRET =  config['twitter']['oauth_token_secret']"
   ]
  },
  {
   "cell_type": "code",
   "execution_count": 4,
   "metadata": {
    "collapsed": false
   },
   "outputs": [],
   "source": [
    "from twitter import oauth, Twitter, TwitterHTTPError"
   ]
  },
  {
   "cell_type": "markdown",
   "metadata": {},
   "source": [
    "Esta es la molona librería que vamos a utilizar: https://github.com/sixohsix/twitter/tree/master"
   ]
  },
  {
   "cell_type": "code",
   "execution_count": 5,
   "metadata": {
    "collapsed": false
   },
   "outputs": [],
   "source": [
    "auth = oauth.OAuth(OAUTH_TOKEN, OAUTH_TOKEN_SECRET,\n",
    "                   APP_KEY, APP_SECRET)\n",
    "\n",
    "twitter_api = Twitter(auth=auth)\n",
    "twitter_api.retry = True"
   ]
  },
  {
   "cell_type": "markdown",
   "metadata": {},
   "source": [
    "### 1 . Recoger tweets a partir de un id"
   ]
  },
  {
   "cell_type": "code",
   "execution_count": 6,
   "metadata": {
    "collapsed": true
   },
   "outputs": [],
   "source": [
    "tweet = twitter_api.statuses.show(_id='628949369883000832')"
   ]
  },
  {
   "cell_type": "code",
   "execution_count": 7,
   "metadata": {
    "collapsed": false
   },
   "outputs": [
    {
     "data": {
      "text/plain": [
       "\"dear @Microsoft the newOoffice for Mac is great and all, but no Lync update? C'mon.\""
      ]
     },
     "execution_count": 7,
     "metadata": {},
     "output_type": "execute_result"
    }
   ],
   "source": [
    "tweet['text']"
   ]
  },
  {
   "cell_type": "markdown",
   "metadata": {},
   "source": [
    "### 2. Recoger tweets de una usuaria"
   ]
  },
  {
   "cell_type": "code",
   "execution_count": 8,
   "metadata": {
    "collapsed": false
   },
   "outputs": [],
   "source": [
    "femfreq_tweet_search = twitter_api.statuses.user_timeline(screen_name=\"femfreq\", count=100)"
   ]
  },
  {
   "cell_type": "code",
   "execution_count": 9,
   "metadata": {
    "collapsed": false
   },
   "outputs": [
    {
     "data": {
      "text/plain": [
       "'Feminist Frequency is an educational nonprofit working for a more equitable media landscape and online world. Created by Anita Sarkeesian.'"
      ]
     },
     "execution_count": 9,
     "metadata": {},
     "output_type": "execute_result"
    }
   ],
   "source": [
    "femfreq_tweet_search[0]['user']['description']"
   ]
  },
  {
   "cell_type": "code",
   "execution_count": 10,
   "metadata": {
    "collapsed": false
   },
   "outputs": [
    {
     "data": {
      "text/plain": [
       "\"Time is running out! Just 4 days left to back Ordinary Women, it doesn't happen without you! https://t.co/gWbfnMQOcp https://t.co/3FJIs5Bozy\""
      ]
     },
     "execution_count": 10,
     "metadata": {},
     "output_type": "execute_result"
    }
   ],
   "source": [
    "femfreq_tweet_search[-1]['text']"
   ]
  },
  {
   "cell_type": "markdown",
   "metadata": {},
   "source": [
    "### 3. Recoger tweets a partir de una consulta"
   ]
  },
  {
   "cell_type": "code",
   "execution_count": 11,
   "metadata": {
    "collapsed": false
   },
   "outputs": [],
   "source": [
    "tweets = twitter_api.search.tweets(q=\"#feminazi\", count=100)"
   ]
  },
  {
   "cell_type": "code",
   "execution_count": 12,
   "metadata": {
    "collapsed": false
   },
   "outputs": [
    {
     "data": {
      "text/plain": [
       "{'completed_in': 0.121,\n",
       " 'count': 100,\n",
       " 'max_id': 723548002791510017,\n",
       " 'max_id_str': '723548002791510017',\n",
       " 'next_results': '?max_id=722730474121084927&q=%23feminazi&count=100&include_entities=1',\n",
       " 'query': '%23feminazi',\n",
       " 'refresh_url': '?since_id=723548002791510017&q=%23feminazi&include_entities=1',\n",
       " 'since_id': 0,\n",
       " 'since_id_str': '0'}"
      ]
     },
     "execution_count": 12,
     "metadata": {},
     "output_type": "execute_result"
    }
   ],
   "source": [
    "tweets['search_metadata']"
   ]
  },
  {
   "cell_type": "code",
   "execution_count": 13,
   "metadata": {
    "collapsed": false
   },
   "outputs": [],
   "source": [
    "import pandas as pd\n",
    "\n",
    "text_gathered = [tweet_data['text'] for tweet_data in tweets['statuses']]\n",
    "num_tweets = len(text_gathered)\n",
    "pd_tweets = pd.DataFrame( {'tweet_text': text_gathered,\n",
    "                           'troll_tag': [False] * num_tweets})\n"
   ]
  },
  {
   "cell_type": "code",
   "execution_count": 14,
   "metadata": {
    "collapsed": false
   },
   "outputs": [
    {
     "data": {
      "text/html": [
       "<div>\n",
       "<table border=\"1\" class=\"dataframe\">\n",
       "  <thead>\n",
       "    <tr style=\"text-align: right;\">\n",
       "      <th></th>\n",
       "      <th>troll_tag</th>\n",
       "      <th>tweet_text</th>\n",
       "    </tr>\n",
       "  </thead>\n",
       "  <tbody>\n",
       "    <tr>\n",
       "      <th>0</th>\n",
       "      <td>False</td>\n",
       "      <td>@1800flowers Ads pay 4 Limbaugh to call us str...</td>\n",
       "    </tr>\n",
       "    <tr>\n",
       "      <th>1</th>\n",
       "      <td>False</td>\n",
       "      <td>Stop the spread of cultural marxism. #Feminazi...</td>\n",
       "    </tr>\n",
       "    <tr>\n",
       "      <th>2</th>\n",
       "      <td>False</td>\n",
       "      <td>#VivasNosQueremos\\n#NantzinVive en mi corazón\\...</td>\n",
       "    </tr>\n",
       "    <tr>\n",
       "      <th>3</th>\n",
       "      <td>False</td>\n",
       "      <td>RT @jalgete: Todo es \"violencia de género\" y \"...</td>\n",
       "    </tr>\n",
       "    <tr>\n",
       "      <th>4</th>\n",
       "      <td>False</td>\n",
       "      <td>RT @jalgete: Todo es \"violencia de género\" y \"...</td>\n",
       "    </tr>\n",
       "  </tbody>\n",
       "</table>\n",
       "</div>"
      ],
      "text/plain": [
       "  troll_tag                                         tweet_text\n",
       "0     False  @1800flowers Ads pay 4 Limbaugh to call us str...\n",
       "1     False  Stop the spread of cultural marxism. #Feminazi...\n",
       "2     False  #VivasNosQueremos\\n#NantzinVive en mi corazón\\...\n",
       "3     False  RT @jalgete: Todo es \"violencia de género\" y \"...\n",
       "4     False  RT @jalgete: Todo es \"violencia de género\" y \"..."
      ]
     },
     "execution_count": 14,
     "metadata": {},
     "output_type": "execute_result"
    }
   ],
   "source": [
    "pd_tweets.head()"
   ]
  },
  {
   "cell_type": "code",
   "execution_count": 15,
   "metadata": {
    "collapsed": true
   },
   "outputs": [],
   "source": [
    "pd_tweets.to_csv('maybe_troll.csv')"
   ]
  },
  {
   "cell_type": "code",
   "execution_count": 16,
   "metadata": {
    "collapsed": false
   },
   "outputs": [
    {
     "name": "stdout",
     "output_type": "stream",
     "text": [
      "0. Gather data.ipynb  maybe_troll.csv\r\n"
     ]
    }
   ],
   "source": [
    "ls"
   ]
  }
 ],
 "metadata": {
  "kernelspec": {
   "display_name": "Python 3",
   "language": "python",
   "name": "python3"
  },
  "language_info": {
   "codemirror_mode": {
    "name": "ipython",
    "version": 3
   },
   "file_extension": ".py",
   "mimetype": "text/x-python",
   "name": "python",
   "nbconvert_exporter": "python",
   "pygments_lexer": "ipython3",
   "version": "3.5.1"
  }
 },
 "nbformat": 4,
 "nbformat_minor": 0
}
